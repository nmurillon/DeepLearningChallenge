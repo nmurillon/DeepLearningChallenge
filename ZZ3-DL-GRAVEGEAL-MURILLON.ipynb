{
  "nbformat": 4,
  "nbformat_minor": 0,
  "metadata": {
    "colab": {
      "name": "colab-github-demo.ipynb",
      "provenance": [],
      "collapsed_sections": [],
      "include_colab_link": true
    },
    "kernelspec": {
      "display_name": "Python 3",
      "name": "python3"
    },
    "accelerator": "GPU"
  },
  "cells": [
    {
      "cell_type": "markdown",
      "metadata": {
        "id": "view-in-github",
        "colab_type": "text"
      },
      "source": [
        "<a href=\"https://colab.research.google.com/github/nmurillon/DeepLearningChallenge/blob/main/ZZ3-DL-GRAVEGEAL-MURILLON.ipynb\" target=\"_parent\"><img src=\"https://colab.research.google.com/assets/colab-badge.svg\" alt=\"Open In Colab\"/></a>"
      ]
    },
    {
      "cell_type": "markdown",
      "metadata": {
        "id": "gYaVmD0KO0Y_"
      },
      "source": [
        "##Imports\n"
      ]
    },
    {
      "cell_type": "code",
      "metadata": {
        "id": "3OciXqbLO-9o"
      },
      "source": [
        "import tensorflow as tf\n",
        "import pandas as pd\n",
        "import numpy as np\n",
        "import time\n",
        "from PIL import Image\n",
        "import glob\n",
        "import matplotlib.pyplot as plt\n",
        "%matplotlib inline\n",
        "\n",
        "# Ajouter les imports nécessaires\n",
        "import os #Changer le répertoire courant pour les chemins des fichiers\n",
        "from tensorflow.keras.models import Model, Sequential\n",
        "from tensorflow.keras.applications import MobileNetV2\n",
        "from tensorflow.keras.layers import Dense, Input\n",
        "from tensorflow.keras.callbacks import ModelCheckpoint\n",
        "from keras.preprocessing.image import load_img\n",
        "from keras.preprocessing.image import img_to_array"
      ],
      "execution_count": 11,
      "outputs": []
    },
    {
      "cell_type": "markdown",
      "metadata": {
        "id": "-dEPXagXUNvF"
      },
      "source": [
        "##Variables globales"
      ]
    },
    {
      "cell_type": "code",
      "metadata": {
        "id": "3emCpSfFPSb4"
      },
      "source": [
        "num_epochs = 100\n",
        "batch_size = 250\n",
        "\n",
        "img_shape = (28,28,1)\n",
        "img_size = img_shape[:2]\n",
        "\n",
        "num_classes = 5\n",
        "stop_freeze = 4\n"
      ],
      "execution_count": 2,
      "outputs": []
    },
    {
      "cell_type": "markdown",
      "metadata": {
        "id": "7-kjtXlnPHeV"
      },
      "source": [
        "##Données"
      ]
    },
    {
      "cell_type": "code",
      "metadata": {
        "id": "pRanVV2fWk7w",
        "colab": {
          "base_uri": "https://localhost:8080/"
        },
        "outputId": "0fcaff78-5a06-4159-9360-ee1814be27df"
      },
      "source": [
        "#On monte le drive\n",
        "from google.colab import drive\n",
        "drive.mount('/content/drive')\n"
      ],
      "execution_count": 3,
      "outputs": [
        {
          "output_type": "stream",
          "name": "stdout",
          "text": [
            "Mounted at /content/drive\n"
          ]
        }
      ]
    },
    {
      "cell_type": "code",
      "metadata": {
        "id": "Oxk7md__YTyd"
      },
      "source": [
        "#on change le répertoire courant pour faciliter l'accès aux données\n",
        "os.chdir('/content/drive/MyDrive/DeepLearning/') "
      ],
      "execution_count": 4,
      "outputs": []
    },
    {
      "cell_type": "code",
      "metadata": {
        "id": "hwiFJxf2PGb2"
      },
      "source": [
        "classes = [\"basket\",\"eye\",\"binoculars\",\"rabbit\",\"hand\"]\n",
        "\n",
        "train = pd.read_csv('train.csv')\n",
        "valid = pd.read_csv('valid.csv')"
      ],
      "execution_count": null,
      "outputs": []
    },
    {
      "cell_type": "code",
      "metadata": {
        "id": "wNLjv2bcPQKW"
      },
      "source": [
        "plt.figure(figsize=(18,9))\n",
        "for i in range(0,5):\n",
        "    ax= plt.subplot(3,2 ,i+1)\n",
        "    mydata = pd.read_csv(\"train.csv\",skiprows = [1], nrows=1)\n",
        "    im = Image.open('images/'+classes[i]+'/'+ os.listdir(\"images/\"+classes[i])[0])\n",
        "    fig=ax.imshow(im)\n",
        "    plt.title(classes[i])\n",
        "    fig.axes.get_xaxis().set_visible(False)\n",
        "    fig.axes.get_yaxis().set_visible(False)\n",
        "plt.show()    \n"
      ],
      "execution_count": null,
      "outputs": []
    },
    {
      "cell_type": "code",
      "metadata": {
        "id": "FobETo7bd03a"
      },
      "source": [
        "def Data():\n",
        "    x_train, x_test, y_train, y_test = np.array([]), np.array([]), np.array([]), np.array([])\n",
        "\n",
        "    for img_path in train['relative_path']:\n",
        "      np.append(x_train, np.array(Image.open(img)), axis=0)\n",
        "\n",
        "    for label in train['class_label']:\n",
        "      np.append(y_train, label)\n",
        "\n",
        "    for img_path in valid['relative_path']:\n",
        "      np.append(x_test, np.array(Image.open(img)), axis=0)\n",
        "\n",
        "    for label in valid['class_label']:\n",
        "      np.append(y_test, label)\n",
        "\n",
        "    x_train = x_train.reshape(x_train.shape[0], img_size, img_size, 1)/255\n",
        "    x_test = x_test.reshape(x_test.shape[0], img_size, img_size, 1)/255\n",
        "\n",
        "    # Conversion en matrices binaires\n",
        "    y_train = tf.keras.utils.to_categorical(y_train, num_classes)\n",
        "    y_test = tf.keras.utils.to_categorical(y_test, num_classes)\n",
        "\n",
        "    return ((x_train, y_train),(x_test, y_test))"
      ],
      "execution_count": 12,
      "outputs": []
    },
    {
      "cell_type": "markdown",
      "metadata": {
        "id": "l1CnH2qNPocd"
      },
      "source": [
        "##Modèle 1 : Fine tuning\n",
        "\n",
        "Dans un premier temps, nous utiliserons le transfer Learning"
      ]
    },
    {
      "cell_type": "code",
      "metadata": {
        "id": "8XL2GYphQFBH"
      },
      "source": [
        "def TransferModel(input_shape,stop_freeze, model):\n",
        "    '''\n",
        "    @param model is a model from tensorflow.keras.applications\n",
        "    '''\n",
        "    pretrained_model = MobileNetV2(input_shape=image_shape)\n",
        "    \n",
        "    # On ôte la dernière couche de classification\n",
        "    pretrained_model.layers.pop()   \n",
        "    \n",
        "    inputs = Input(input_shape)\n",
        "    x = pretrained_model(inputs)\n",
        "    # On fige tous les poids sauf ceux des stop_freeze dernières couches\n",
        "    for i in range(len(pretrained_model.layers) - stop_freeze):\n",
        "      pretrained_model.layers[i].trainable = False\n",
        "    \n",
        "    model = Sequential([pretrained_model,\n",
        "                        Dense(num_classes, activation='softmax')])\n",
        "    \n",
        "    return model"
      ],
      "execution_count": null,
      "outputs": []
    },
    {
      "cell_type": "markdown",
      "metadata": {
        "id": "uGHAD5lGZDSt"
      },
      "source": [
        "##Entraînement du réseau"
      ]
    },
    {
      "cell_type": "code",
      "metadata": {
        "id": "Gr7CUJUDNaTv"
      },
      "source": [
        "#Choix du modèle pré-entraîné\n",
        "pretrained_model = tf.keras.applications.MobileNetV2# TODO\n",
        "pretrained_model_name = \"MobileNetV2\""
      ],
      "execution_count": null,
      "outputs": []
    },
    {
      "cell_type": "code",
      "metadata": {
        "id": "L7PSLLccZBuu"
      },
      "source": [
        "(x_train, y_train) , (x_test, y_test) = Data()\n",
        "\n",
        "model = TransferModel(img_shape, stop_freeze, pretrained_model)\n",
        "model.compile(loss=\"categorical_crossentropy\", optimizer=\"adam\", metrics=[\"accuracy\"])\n",
        "\n",
        "# Callback pour la sauvegarde du meilleur modèle\n",
        "if not os.path.isdir(\"sauve\"):\n",
        "    os.mkdir(\"sauve\")\n",
        "    \n",
        "checkpoint = ModelCheckpoint(f\"sauve/{pretrained_model_name}-loss-{val_loss:.2f}-acc-{accuracy:.2f}.h5\",\n",
        "                                save_best_only=True,verbose=1)\n",
        "\n",
        "\n",
        "# TODO !!!\n",
        "train_steps_epoch = np.ceil(x_train.samples / batch_size)\n",
        "val_steps_epoch = np.ceil(x_test.samples / batch_size)\n",
        "\n",
        "# Entraînement\n",
        "model.fit(x_train, y_train, validation_data=(x_test, y_test), batch_size=batch_size,\n",
        "                        epochs=num_epochs, verbose=1, callbacks=[checkpoint])"
      ],
      "execution_count": null,
      "outputs": []
    },
    {
      "cell_type": "code",
      "metadata": {
        "id": "CFZG1XMtO5gs"
      },
      "source": [
        "#Construction du meilleur modèle\n",
        "model = TransferModel(input_shape=image_shape,stop_freeze=2 )\n",
        "model.compile(loss=\"categorical_crossentropy\", optimizer=\"adam\", metrics=[\"accuracy\"])\n",
        "model.load_weights(\"sauve/MobileNetV2_flowers-loss-0.76-acc-0.94.h5\") # TODO\n",
        "\n",
        "# Evaluation du modèle\n",
        "evaluation = model.evaluate(x_test, verbose=1)\n",
        "print(\"Perte = {0:5.3f}, Précision = {1:5.3f}\".format(evaluation[0], evaluation[1]))"
      ],
      "execution_count": null,
      "outputs": []
    },
    {
      "cell_type": "code",
      "metadata": {
        "id": "rgaXCdJtPIm3"
      },
      "source": [
        "# Quelques exemples de bonne / mauvaise classification\n",
        "image_batch, label_batch = next(iter(x_test))\n",
        "\n",
        "label_batch = [classes[np.argmax(label_batch[i])] for i in range(batch_size)]\n",
        "predicted_classes = model.predict(image_batch)\n",
        "\n",
        "predicted_ids = [np.argmax(predicted_classes[i]) for i in range(batch_size)]\n",
        "predicted_classes = np.array([classes[id] for id in predicted_ids])\n",
        "\n",
        "plt.figure(figsize=(10,9))\n",
        "for n in range(30):\n",
        "    plt.subplot(6,5,n+1)\n",
        "    plt.subplots_adjust(hspace = 0.3)\n",
        "    plt.imshow(image_batch[n])\n",
        "    if predicted_classes[n] == label_batch[n]:\n",
        "        color = \"blue\"\n",
        "        title = predicted_classes[n].title()\n",
        "    else:\n",
        "        color = \"red\"\n",
        "        title = f\"{predicted_classes[n].title()}, correct:{label_batch[n]}\"\n",
        "    plt.title(title, color=color)\n",
        "    plt.axis('off')\n",
        "_ = plt.suptitle(\"Prédiction (bleu : OK, rouge : KO)\")\n",
        "plt.tight_layout()\n",
        "plt.savefig(\"res.png\",dpi=100)"
      ],
      "execution_count": null,
      "outputs": []
    }
  ]
}