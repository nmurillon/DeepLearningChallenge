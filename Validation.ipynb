{
  "nbformat": 4,
  "nbformat_minor": 0,
  "metadata": {
    "colab": {
      "name": "Validation.ipynb",
      "provenance": [],
      "collapsed_sections": [],
      "authorship_tag": "ABX9TyO2kSwVARqYKpqu+MsDxJbW",
      "include_colab_link": true
    },
    "kernelspec": {
      "name": "python3",
      "display_name": "Python 3"
    },
    "language_info": {
      "name": "python"
    }
  },
  "cells": [
    {
      "cell_type": "markdown",
      "metadata": {
        "id": "view-in-github",
        "colab_type": "text"
      },
      "source": [
        "<a href=\"https://colab.research.google.com/github/nmurillon/DeepLearningChallenge/blob/main/Validation.ipynb\" target=\"_parent\"><img src=\"https://colab.research.google.com/assets/colab-badge.svg\" alt=\"Open In Colab\"/></a>"
      ]
    },
    {
      "cell_type": "markdown",
      "source": [
        "#Notebook pour la validation des données"
      ],
      "metadata": {
        "id": "50lUcoZYA4v-"
      }
    },
    {
      "cell_type": "code",
      "source": [
        "from keras.models import load_model\n",
        "import numpy as np\n",
        "from PIL import Image\n",
        "import tensorflow\n",
        "from tensorflow import keras\n",
        "from tensorflow.keras.preprocessing import image\n",
        "from tensorflow.keras.preprocessing.image import ImageDataGenerator\n",
        "import os\n",
        "import sys"
      ],
      "metadata": {
        "id": "67LBK5RoA4DN"
      },
      "execution_count": 1,
      "outputs": []
    },
    {
      "cell_type": "markdown",
      "source": [
        "##Récupération des arguments\n",
        "\n",
        "Nous allons maintenant récupérer le répertoire contenant les images sur lesquelles notre modèle va être évalué.\n",
        "Aucun information n'ayant été donnée sur un chemin par défaut, nous supposerons que le notebook sera forcément lancé avec un paramètre."
      ],
      "metadata": {
        "id": "msjJZB8uBIwW"
      }
    },
    {
      "cell_type": "code",
      "execution_count": 2,
      "metadata": {
        "colab": {
          "base_uri": "https://localhost:8080/"
        },
        "id": "2CMtlLAFAjBN",
        "outputId": "7d5e3ddd-0711-4219-930e-9e4f92b48bdf"
      },
      "outputs": [
        {
          "output_type": "stream",
          "name": "stdout",
          "text": [
            "['/usr/local/lib/python3.7/dist-packages/ipykernel_launcher.py', '-f', '/root/.local/share/jupyter/runtime/kernel-c72c0b94-d0cb-498c-95b6-0dde01f8971c.json']\n",
            "/content\n"
          ]
        }
      ],
      "source": [
        "args = sys.argv\n",
        "print(args)\n",
        "dir_path = args[1]\n",
        "print(os.getcwd())"
      ]
    },
    {
      "cell_type": "markdown",
      "source": [
        "##Chargement du modèle\n",
        "\n",
        "Comme nous l'avons expliqué dans notre notebook, nous avons conservé deux modèles différents : \n",
        "  - Un entraîné sur le jeu de données fourni (précision d'environ 95,8%)\n",
        "  - Un autre entraîné sur un jeu de données plus conséquent (précision d'environ 97%)\n",
        "\n",
        "Nous chargerons les deux modèles ici et nous les évalueront en placant le résultat dans deux fichiers différents :\n",
        "  - results_gravegeal_murillon_teacher_set.csv\n",
        "  - results_gravegeal_murillon_full_set.csv"
      ],
      "metadata": {
        "id": "tz9UUnmgCHaj"
      }
    },
    {
      "cell_type": "code",
      "source": [
        "model = keras.models.load_model(\"gravegeal_murillon_teacher_set.h5\")"
      ],
      "metadata": {
        "id": "7VDOOcmWDIG8"
      },
      "execution_count": 6,
      "outputs": []
    },
    {
      "cell_type": "code",
      "source": [
        "model_full_set = keras.models.load_model(\"gravegeal_murillon_full_set.h5\")"
      ],
      "metadata": {
        "id": "gmw9WkMeDTH8"
      },
      "execution_count": null,
      "outputs": []
    },
    {
      "cell_type": "markdown",
      "source": [
        "##Evaluation du modèle"
      ],
      "metadata": {
        "id": "VpBAujCrDYfT"
      }
    },
    {
      "cell_type": "code",
      "source": [
        "def load_img(img_path):\n",
        "  img = Image.open(img_path)\n",
        "  img = np.array(img)/255\n",
        "  return np.expand_dims(img, axis = 0)"
      ],
      "metadata": {
        "id": "OYK_n7cgKaI9"
      },
      "execution_count": 8,
      "outputs": []
    },
    {
      "cell_type": "code",
      "source": [
        "with open(\"results_gravegeal_murillon_teacher_set.csv\", \"w\") as f:\n",
        "  f.truncate(0) # si ce n'est pas la première fois qu'on lance la validation\n",
        "  f.write('image_name,relative_path,class_label\\n')\n",
        "  for img in os.listdir(dir_path):\n",
        "        prediction = model.predict(load_img(f\"{dir_path}/{img}\"))\n",
        "        prediction = np.argmax(prediction, axis = 1)[0]\n",
        "        f.write(f\"{img},{dir_path}/{img},{prediction}\\n\")"
      ],
      "metadata": {
        "id": "1sX6yAhZK4aJ"
      },
      "execution_count": 11,
      "outputs": []
    },
    {
      "cell_type": "code",
      "source": [
        "with open(\"results_gravegeal_murillon_full_set.csv\", \"w\") as f:\n",
        "  f.truncate(0) # si ce n'est pas la première fois qu'on lance la validation\n",
        "  f.write('image_name,relative_path,class_label\\n')\n",
        "  for img in os.listdir(dir_path):\n",
        "        prediction = model_full_set.predict(load_img(f\"{dir_path}/{img}\"))\n",
        "        prediction = np.argmax(prediction, axis = 1)[0]\n",
        "        f.write(f\"{img},{dir_path}/{img},{prediction}\\n\")"
      ],
      "metadata": {
        "id": "yX6EY1GCo8eO"
      },
      "execution_count": null,
      "outputs": []
    }
  ]
}